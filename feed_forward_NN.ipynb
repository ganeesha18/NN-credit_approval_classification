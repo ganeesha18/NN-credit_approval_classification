{
 "cells": [
  {
   "cell_type": "code",
   "execution_count": 2,
   "metadata": {},
   "outputs": [
    {
     "name": "stderr",
     "output_type": "stream",
     "text": [
      "Using TensorFlow backend.\n",
      "C:\\Users\\USER\\Anaconda3\\lib\\site-packages\\ipykernel_launcher.py:29: FutureWarning: read_table is deprecated, use read_csv instead.\n"
     ]
    }
   ],
   "source": [
    "# -*- coding: utf-8 -*-\n",
    "import pandas as pd\n",
    "import numpy as np\n",
    "import os\n",
    "\n",
    "from sklearn.metrics import make_scorer\n",
    "from sklearn.metrics import f1_score\n",
    "from sklearn.model_selection import train_test_split\n",
    "from sklearn.model_selection import cross_val_score\n",
    "from sklearn.model_selection import StratifiedKFold\n",
    "from sklearn.model_selection import GridSearchCV\n",
    "from sklearn import model_selection\n",
    "from keras.wrappers.scikit_learn import KerasClassifier\n",
    "from keras.models import Sequential\n",
    "from keras.layers import Conv1D, MaxPooling1D\n",
    "from keras.layers import Activation, Dropout, Flatten, Dense\n",
    "\n",
    "import tensorflow as tf\n",
    "from keras import backend as K\n",
    "from sklearn.model_selection import KFold, StratifiedKFold\n",
    "from sklearn.metrics import f1_score\n",
    "from tensorflow.keras.utils import plot_model\n",
    "\n",
    "from sklearn.metrics import make_scorer, accuracy_score, precision_score, recall_score, f1_score\n",
    "seed = 100\n",
    "#data_path = \"C:/IQ/msc/Neural_network/data/\"\n",
    "#os.chdir(data_path)\n",
    "columns = ['A1', 'A2','A3','A4', 'A5', 'A6', 'A7', 'A8','A9', 'A10', 'A11','A12', 'A13', 'A14', 'A15', 'A16']\n",
    "dataset= pd.read_table('crx.data',sep=\",\", names=columns,header=None)\n",
    "dataset = dataset.replace('?', np.nan)"
   ]
  },
  {
   "cell_type": "code",
   "execution_count": 3,
   "metadata": {},
   "outputs": [
    {
     "data": {
      "text/plain": [
       "Index(['A1', 'A2', 'A3', 'A4', 'A5', 'A6', 'A7', 'A8', 'A9', 'A10', 'A11',\n",
       "       'A12', 'A13', 'A14', 'A15', 'A16'],\n",
       "      dtype='object')"
      ]
     },
     "execution_count": 3,
     "metadata": {},
     "output_type": "execute_result"
    }
   ],
   "source": [
    "dataset.columns"
   ]
  },
  {
   "cell_type": "code",
   "execution_count": 4,
   "metadata": {},
   "outputs": [],
   "source": [
    "for col in ['A1', 'A2','A4', 'A5', 'A6', 'A7', 'A9', 'A10', 'A12', 'A13', 'A14', 'A16']:\n",
    "    dataset[col] = pd.Categorical(dataset[col])\n",
    "    dataset[col] = dataset[col].cat.codes"
   ]
  },
  {
   "cell_type": "code",
   "execution_count": 5,
   "metadata": {},
   "outputs": [
    {
     "data": {
      "text/html": [
       "<div>\n",
       "<style scoped>\n",
       "    .dataframe tbody tr th:only-of-type {\n",
       "        vertical-align: middle;\n",
       "    }\n",
       "\n",
       "    .dataframe tbody tr th {\n",
       "        vertical-align: top;\n",
       "    }\n",
       "\n",
       "    .dataframe thead th {\n",
       "        text-align: right;\n",
       "    }\n",
       "</style>\n",
       "<table border=\"1\" class=\"dataframe\">\n",
       "  <thead>\n",
       "    <tr style=\"text-align: right;\">\n",
       "      <th></th>\n",
       "      <th>A1</th>\n",
       "      <th>A2</th>\n",
       "      <th>A3</th>\n",
       "      <th>A4</th>\n",
       "      <th>A5</th>\n",
       "      <th>A6</th>\n",
       "      <th>A7</th>\n",
       "      <th>A8</th>\n",
       "      <th>A9</th>\n",
       "      <th>A10</th>\n",
       "      <th>A11</th>\n",
       "      <th>A12</th>\n",
       "      <th>A13</th>\n",
       "      <th>A14</th>\n",
       "      <th>A15</th>\n",
       "      <th>A16</th>\n",
       "    </tr>\n",
       "  </thead>\n",
       "  <tbody>\n",
       "    <tr>\n",
       "      <th>0</th>\n",
       "      <td>1</td>\n",
       "      <td>156</td>\n",
       "      <td>0.000</td>\n",
       "      <td>1</td>\n",
       "      <td>0</td>\n",
       "      <td>12</td>\n",
       "      <td>7</td>\n",
       "      <td>1.25</td>\n",
       "      <td>1</td>\n",
       "      <td>1</td>\n",
       "      <td>1</td>\n",
       "      <td>0</td>\n",
       "      <td>0</td>\n",
       "      <td>68</td>\n",
       "      <td>0</td>\n",
       "      <td>0</td>\n",
       "    </tr>\n",
       "    <tr>\n",
       "      <th>1</th>\n",
       "      <td>0</td>\n",
       "      <td>328</td>\n",
       "      <td>4.460</td>\n",
       "      <td>1</td>\n",
       "      <td>0</td>\n",
       "      <td>10</td>\n",
       "      <td>3</td>\n",
       "      <td>3.04</td>\n",
       "      <td>1</td>\n",
       "      <td>1</td>\n",
       "      <td>6</td>\n",
       "      <td>0</td>\n",
       "      <td>0</td>\n",
       "      <td>11</td>\n",
       "      <td>560</td>\n",
       "      <td>0</td>\n",
       "    </tr>\n",
       "    <tr>\n",
       "      <th>2</th>\n",
       "      <td>0</td>\n",
       "      <td>89</td>\n",
       "      <td>0.500</td>\n",
       "      <td>1</td>\n",
       "      <td>0</td>\n",
       "      <td>10</td>\n",
       "      <td>3</td>\n",
       "      <td>1.50</td>\n",
       "      <td>1</td>\n",
       "      <td>0</td>\n",
       "      <td>0</td>\n",
       "      <td>0</td>\n",
       "      <td>0</td>\n",
       "      <td>96</td>\n",
       "      <td>824</td>\n",
       "      <td>0</td>\n",
       "    </tr>\n",
       "    <tr>\n",
       "      <th>3</th>\n",
       "      <td>1</td>\n",
       "      <td>125</td>\n",
       "      <td>1.540</td>\n",
       "      <td>1</td>\n",
       "      <td>0</td>\n",
       "      <td>12</td>\n",
       "      <td>7</td>\n",
       "      <td>3.75</td>\n",
       "      <td>1</td>\n",
       "      <td>1</td>\n",
       "      <td>5</td>\n",
       "      <td>1</td>\n",
       "      <td>0</td>\n",
       "      <td>31</td>\n",
       "      <td>3</td>\n",
       "      <td>0</td>\n",
       "    </tr>\n",
       "    <tr>\n",
       "      <th>4</th>\n",
       "      <td>1</td>\n",
       "      <td>43</td>\n",
       "      <td>5.625</td>\n",
       "      <td>1</td>\n",
       "      <td>0</td>\n",
       "      <td>12</td>\n",
       "      <td>7</td>\n",
       "      <td>1.71</td>\n",
       "      <td>1</td>\n",
       "      <td>0</td>\n",
       "      <td>0</td>\n",
       "      <td>0</td>\n",
       "      <td>2</td>\n",
       "      <td>37</td>\n",
       "      <td>0</td>\n",
       "      <td>0</td>\n",
       "    </tr>\n",
       "  </tbody>\n",
       "</table>\n",
       "</div>"
      ],
      "text/plain": [
       "   A1   A2     A3  A4  A5  A6  A7    A8  A9  A10  A11  A12  A13  A14  A15  A16\n",
       "0   1  156  0.000   1   0  12   7  1.25   1    1    1    0    0   68    0    0\n",
       "1   0  328  4.460   1   0  10   3  3.04   1    1    6    0    0   11  560    0\n",
       "2   0   89  0.500   1   0  10   3  1.50   1    0    0    0    0   96  824    0\n",
       "3   1  125  1.540   1   0  12   7  3.75   1    1    5    1    0   31    3    0\n",
       "4   1   43  5.625   1   0  12   7  1.71   1    0    0    0    2   37    0    0"
      ]
     },
     "execution_count": 5,
     "metadata": {},
     "output_type": "execute_result"
    }
   ],
   "source": [
    "dataset.head()"
   ]
  },
  {
   "cell_type": "code",
   "execution_count": 6,
   "metadata": {},
   "outputs": [
    {
     "data": {
      "text/html": [
       "<div>\n",
       "<style scoped>\n",
       "    .dataframe tbody tr th:only-of-type {\n",
       "        vertical-align: middle;\n",
       "    }\n",
       "\n",
       "    .dataframe tbody tr th {\n",
       "        vertical-align: top;\n",
       "    }\n",
       "\n",
       "    .dataframe thead th {\n",
       "        text-align: right;\n",
       "    }\n",
       "</style>\n",
       "<table border=\"1\" class=\"dataframe\">\n",
       "  <thead>\n",
       "    <tr style=\"text-align: right;\">\n",
       "      <th></th>\n",
       "      <th>0</th>\n",
       "      <th>1</th>\n",
       "      <th>2</th>\n",
       "      <th>3</th>\n",
       "      <th>4</th>\n",
       "      <th>5</th>\n",
       "      <th>6</th>\n",
       "      <th>7</th>\n",
       "      <th>8</th>\n",
       "      <th>9</th>\n",
       "      <th>10</th>\n",
       "      <th>11</th>\n",
       "      <th>12</th>\n",
       "      <th>13</th>\n",
       "      <th>14</th>\n",
       "      <th>15</th>\n",
       "    </tr>\n",
       "  </thead>\n",
       "  <tbody>\n",
       "    <tr>\n",
       "      <th>count</th>\n",
       "      <td>690.000000</td>\n",
       "      <td>690.000000</td>\n",
       "      <td>690.000000</td>\n",
       "      <td>690.000000</td>\n",
       "      <td>690.000000</td>\n",
       "      <td>690.000000</td>\n",
       "      <td>690.000000</td>\n",
       "      <td>690.000000</td>\n",
       "      <td>690.000000</td>\n",
       "      <td>690.000000</td>\n",
       "      <td>690.000000</td>\n",
       "      <td>690.000000</td>\n",
       "      <td>690.000000</td>\n",
       "      <td>690.000000</td>\n",
       "      <td>690.000000</td>\n",
       "      <td>690.000000</td>\n",
       "    </tr>\n",
       "    <tr>\n",
       "      <th>mean</th>\n",
       "      <td>0.830435</td>\n",
       "      <td>0.416739</td>\n",
       "      <td>0.169954</td>\n",
       "      <td>0.738647</td>\n",
       "      <td>0.488889</td>\n",
       "      <td>0.476605</td>\n",
       "      <td>0.666023</td>\n",
       "      <td>0.078014</td>\n",
       "      <td>0.523188</td>\n",
       "      <td>0.427536</td>\n",
       "      <td>0.035821</td>\n",
       "      <td>0.457971</td>\n",
       "      <td>0.088406</td>\n",
       "      <td>0.336300</td>\n",
       "      <td>0.010174</td>\n",
       "      <td>0.555072</td>\n",
       "    </tr>\n",
       "    <tr>\n",
       "      <th>std</th>\n",
       "      <td>0.254597</td>\n",
       "      <td>0.270756</td>\n",
       "      <td>0.177792</td>\n",
       "      <td>0.159029</td>\n",
       "      <td>0.286709</td>\n",
       "      <td>0.308590</td>\n",
       "      <td>0.288278</td>\n",
       "      <td>0.117422</td>\n",
       "      <td>0.499824</td>\n",
       "      <td>0.495080</td>\n",
       "      <td>0.072581</td>\n",
       "      <td>0.498592</td>\n",
       "      <td>0.278934</td>\n",
       "      <td>0.273000</td>\n",
       "      <td>0.052101</td>\n",
       "      <td>0.497318</td>\n",
       "    </tr>\n",
       "    <tr>\n",
       "      <th>min</th>\n",
       "      <td>0.000000</td>\n",
       "      <td>0.000000</td>\n",
       "      <td>0.000000</td>\n",
       "      <td>0.000000</td>\n",
       "      <td>0.000000</td>\n",
       "      <td>0.000000</td>\n",
       "      <td>0.000000</td>\n",
       "      <td>0.000000</td>\n",
       "      <td>0.000000</td>\n",
       "      <td>0.000000</td>\n",
       "      <td>0.000000</td>\n",
       "      <td>0.000000</td>\n",
       "      <td>0.000000</td>\n",
       "      <td>0.000000</td>\n",
       "      <td>0.000000</td>\n",
       "      <td>0.000000</td>\n",
       "    </tr>\n",
       "    <tr>\n",
       "      <th>25%</th>\n",
       "      <td>0.500000</td>\n",
       "      <td>0.198424</td>\n",
       "      <td>0.035714</td>\n",
       "      <td>0.666667</td>\n",
       "      <td>0.333333</td>\n",
       "      <td>0.142857</td>\n",
       "      <td>0.444444</td>\n",
       "      <td>0.005789</td>\n",
       "      <td>0.000000</td>\n",
       "      <td>0.000000</td>\n",
       "      <td>0.000000</td>\n",
       "      <td>0.000000</td>\n",
       "      <td>0.000000</td>\n",
       "      <td>0.105882</td>\n",
       "      <td>0.000000</td>\n",
       "      <td>0.000000</td>\n",
       "    </tr>\n",
       "    <tr>\n",
       "      <th>50%</th>\n",
       "      <td>1.000000</td>\n",
       "      <td>0.369628</td>\n",
       "      <td>0.098214</td>\n",
       "      <td>0.666667</td>\n",
       "      <td>0.333333</td>\n",
       "      <td>0.428571</td>\n",
       "      <td>0.888889</td>\n",
       "      <td>0.035088</td>\n",
       "      <td>1.000000</td>\n",
       "      <td>0.000000</td>\n",
       "      <td>0.000000</td>\n",
       "      <td>0.000000</td>\n",
       "      <td>0.000000</td>\n",
       "      <td>0.311765</td>\n",
       "      <td>0.000050</td>\n",
       "      <td>1.000000</td>\n",
       "    </tr>\n",
       "    <tr>\n",
       "      <th>75%</th>\n",
       "      <td>1.000000</td>\n",
       "      <td>0.626791</td>\n",
       "      <td>0.257411</td>\n",
       "      <td>0.666667</td>\n",
       "      <td>0.333333</td>\n",
       "      <td>0.785714</td>\n",
       "      <td>0.888889</td>\n",
       "      <td>0.092105</td>\n",
       "      <td>1.000000</td>\n",
       "      <td>1.000000</td>\n",
       "      <td>0.044776</td>\n",
       "      <td>1.000000</td>\n",
       "      <td>0.000000</td>\n",
       "      <td>0.552941</td>\n",
       "      <td>0.003955</td>\n",
       "      <td>1.000000</td>\n",
       "    </tr>\n",
       "    <tr>\n",
       "      <th>max</th>\n",
       "      <td>1.000000</td>\n",
       "      <td>1.000000</td>\n",
       "      <td>1.000000</td>\n",
       "      <td>1.000000</td>\n",
       "      <td>1.000000</td>\n",
       "      <td>1.000000</td>\n",
       "      <td>1.000000</td>\n",
       "      <td>1.000000</td>\n",
       "      <td>1.000000</td>\n",
       "      <td>1.000000</td>\n",
       "      <td>1.000000</td>\n",
       "      <td>1.000000</td>\n",
       "      <td>1.000000</td>\n",
       "      <td>1.000000</td>\n",
       "      <td>1.000000</td>\n",
       "      <td>1.000000</td>\n",
       "    </tr>\n",
       "  </tbody>\n",
       "</table>\n",
       "</div>"
      ],
      "text/plain": [
       "               0           1           2           3           4           5   \\\n",
       "count  690.000000  690.000000  690.000000  690.000000  690.000000  690.000000   \n",
       "mean     0.830435    0.416739    0.169954    0.738647    0.488889    0.476605   \n",
       "std      0.254597    0.270756    0.177792    0.159029    0.286709    0.308590   \n",
       "min      0.000000    0.000000    0.000000    0.000000    0.000000    0.000000   \n",
       "25%      0.500000    0.198424    0.035714    0.666667    0.333333    0.142857   \n",
       "50%      1.000000    0.369628    0.098214    0.666667    0.333333    0.428571   \n",
       "75%      1.000000    0.626791    0.257411    0.666667    0.333333    0.785714   \n",
       "max      1.000000    1.000000    1.000000    1.000000    1.000000    1.000000   \n",
       "\n",
       "               6           7           8           9           10          11  \\\n",
       "count  690.000000  690.000000  690.000000  690.000000  690.000000  690.000000   \n",
       "mean     0.666023    0.078014    0.523188    0.427536    0.035821    0.457971   \n",
       "std      0.288278    0.117422    0.499824    0.495080    0.072581    0.498592   \n",
       "min      0.000000    0.000000    0.000000    0.000000    0.000000    0.000000   \n",
       "25%      0.444444    0.005789    0.000000    0.000000    0.000000    0.000000   \n",
       "50%      0.888889    0.035088    1.000000    0.000000    0.000000    0.000000   \n",
       "75%      0.888889    0.092105    1.000000    1.000000    0.044776    1.000000   \n",
       "max      1.000000    1.000000    1.000000    1.000000    1.000000    1.000000   \n",
       "\n",
       "               12          13          14          15  \n",
       "count  690.000000  690.000000  690.000000  690.000000  \n",
       "mean     0.088406    0.336300    0.010174    0.555072  \n",
       "std      0.278934    0.273000    0.052101    0.497318  \n",
       "min      0.000000    0.000000    0.000000    0.000000  \n",
       "25%      0.000000    0.105882    0.000000    0.000000  \n",
       "50%      0.000000    0.311765    0.000050    1.000000  \n",
       "75%      0.000000    0.552941    0.003955    1.000000  \n",
       "max      1.000000    1.000000    1.000000    1.000000  "
      ]
     },
     "execution_count": 6,
     "metadata": {},
     "output_type": "execute_result"
    }
   ],
   "source": [
    "from sklearn.preprocessing import MinMaxScaler\n",
    "scaler = MinMaxScaler()\n",
    "dataset = pd.DataFrame(scaler.fit_transform(dataset))\n",
    "\n",
    "dataset.describe()"
   ]
  },
  {
   "cell_type": "code",
   "execution_count": 7,
   "metadata": {},
   "outputs": [],
   "source": [
    "X=dataset.iloc[:,0:15].values  \n",
    "Y=dataset.iloc[:,15:16].values"
   ]
  },
  {
   "cell_type": "code",
   "execution_count": 8,
   "metadata": {},
   "outputs": [],
   "source": [
    "import tensorflow as tf\n",
    "from keras import backend as K\n",
    "from sklearn.model_selection import KFold, StratifiedKFold\n",
    "from sklearn.metrics import f1_score\n",
    "from tensorflow.keras.utils import plot_model"
   ]
  },
  {
   "cell_type": "code",
   "execution_count": 9,
   "metadata": {},
   "outputs": [],
   "source": [
    "np.random.seed(50) \n",
    "\n",
    "def create_model(verbose=False):\n",
    "    \n",
    "    model = tf.keras.models.Sequential()\n",
    "  \n",
    "    if verbose:\n",
    "        print('Network configuration ',neuronCountInEachLayer)\n",
    "    model.add(tf.keras.layers.Dense(neuronCountInEachLayer[0], input_dim=15, activation = activationFuncEachLayer[0], kernel_regularizer=regularizerFunc)) # First Layer\n",
    "    \n",
    "    for x in range(1, depthOfNetwork-1):\n",
    "        \n",
    "        model.add(tf.keras.layers.Dense(neuronCountInEachLayer[x], activation = activationFuncEachLayer[x],kernel_regularizer=regularizerFunc))         # Second layer onwards\n",
    " \n",
    "    model.add(tf.keras.layers.Dense(neuronCountInEachLayer[depthOfNetwork-1], activation = activationFuncEachLayer[depthOfNetwork-1]))  # Output layer\n",
    "    \n",
    "    model.compile(loss = lossFunction , optimizer = 'adam' , metrics = ['accuracy'] ) \n",
    "        \n",
    "    return model    "
   ]
  },
  {
   "cell_type": "code",
   "execution_count": 10,
   "metadata": {},
   "outputs": [],
   "source": [
    "def evaluateTheModel(verbose=False):\n",
    "    n_split=5\n",
    "    f1_scores = []\n",
    "\n",
    "    for train_index,test_index in StratifiedKFold(n_split).split(X, Y):      # StratifiedKFold, KFold\n",
    "        x_train,x_test=X[train_index],X[test_index]\n",
    "        y_train,y_test=Y[train_index],Y[test_index]\n",
    "\n",
    "        model=create_model(verbose)\n",
    "        model.fit(x_train, y_train,epochs=100, verbose=0)\n",
    "        evaluationMetrics = model.evaluate(x_test,y_test, verbose=0)\n",
    "        \n",
    "        if verbose:\n",
    "            print('Model evaluation ',evaluationMetrics)   # This returns metric values for the evaluation\n",
    "\n",
    "        y_pred = np.where(model.predict(x_test) > 0.5, 1, 0)\n",
    "        f1 = f1_score(y_test, y_pred , average=\"macro\")\n",
    "\n",
    "        if verbose:\n",
    "            print('F1 score is ', f1)\n",
    "        \n",
    "        f1_scores.append(f1)\n",
    "    \n",
    "    return np.mean(f1_scores)"
   ]
  },
  {
   "cell_type": "markdown",
   "metadata": {},
   "source": [
    "## F1 Score for 5 K- Fold Cross validation"
   ]
  },
  {
   "cell_type": "code",
   "execution_count": null,
   "metadata": {},
   "outputs": [],
   "source": [
    "depthOfNetwork = 2\n",
    "neuronCountInEachLayer = [2, 1]                                 \n",
    "activationFuncEachLayer = ['sigmoid', 'sigmoid']            \n",
    "lossFunction = 'binary_crossentropy'                                \n",
    "regularizerFunc = tf.keras.regularizers.l2(0)                       \n",
    "\n",
    "evaluateTheModel(True)"
   ]
  },
  {
   "cell_type": "markdown",
   "metadata": {},
   "source": [
    "## Changing neuron count of first hidden layer"
   ]
  },
  {
   "cell_type": "code",
   "execution_count": 28,
   "metadata": {},
   "outputs": [
    {
     "name": "stdout",
     "output_type": "stream",
     "text": [
      "'Node count :   3, Mean F1 score :    0.84793\n",
      "'Node count :   4, Mean F1 score :    0.84656\n",
      "'Node count :   5, Mean F1 score :    0.84777\n",
      "'Node count :   6, Mean F1 score :    0.83562\n",
      "'Node count :   7, Mean F1 score :    0.84566\n",
      "'Node count :   8, Mean F1 score :    0.84649\n",
      "'Node count :   9, Mean F1 score :    0.84465\n",
      "'Node count :  10, Mean F1 score :    0.84465\n",
      "'Node count :  11, Mean F1 score :    0.85221\n",
      "'Node count :  12, Mean F1 score :    0.84564\n",
      "'Node count :  13, Mean F1 score :    0.84753\n",
      "'Node count :  14, Mean F1 score :    0.84900\n",
      "'Node count :  15, Mean F1 score :    0.84384\n",
      "'Node count :  16, Mean F1 score :    0.84910\n",
      "'Node count :  17, Mean F1 score :    0.85191\n",
      "'Node count :  18, Mean F1 score :    0.84743\n",
      "'Node count :  19, Mean F1 score :    0.85037\n",
      "'Node count :  20, Mean F1 score :    0.84848\n",
      "'Node count :  21, Mean F1 score :    0.85360\n",
      "'Node count :  22, Mean F1 score :    0.84384\n",
      "'Node count :  23, Mean F1 score :    0.84848\n",
      "'Node count :  24, Mean F1 score :    0.84698\n"
     ]
    }
   ],
   "source": [
    "depthOfNetwork = 2\n",
    "neuronCountInEachLayer = [15, 1]                                 \n",
    "activationFuncEachLayer = ['sigmoid', 'sigmoid']            \n",
    "lossFunction = 'binary_crossentropy'                                \n",
    "regularizerFunc = tf.keras.regularizers.l2(0)                       \n",
    "\n",
    "for i in range (3, 25):\n",
    "    neuronCountInEachLayer = [i, 1]\n",
    "    print(\"'Node count : % 3d, Mean F1 score : % 10.5f\" %(i, evaluateTheModel())) "
   ]
  },
  {
   "cell_type": "markdown",
   "metadata": {},
   "source": [
    "# Changing no. of hidden layers with constant Neurons(11)"
   ]
  },
  {
   "cell_type": "markdown",
   "metadata": {},
   "source": [
    "### 1 Hidden layer F1 score"
   ]
  },
  {
   "cell_type": "code",
   "execution_count": 29,
   "metadata": {},
   "outputs": [
    {
     "name": "stdout",
     "output_type": "stream",
     "text": [
      "'Neurons [ 11], Mean F1 score :    0.84473\n"
     ]
    }
   ],
   "source": [
    "depthOfNetwork = 2\n",
    "neuronCountInEachLayer = [11, 1]                                 \n",
    "activationFuncEachLayer = ['sigmoid', 'sigmoid']           \n",
    "lossFunction = 'binary_crossentropy'                             \n",
    "regularizerFunc = tf.keras.regularizers.l2(0)                     \n",
    "print(\"'Neurons [% 3d], Mean F1 score : % 10.5f\" %(11, evaluateTheModel()))"
   ]
  },
  {
   "cell_type": "markdown",
   "metadata": {},
   "source": [
    "### 2 Hidden layer F1 score"
   ]
  },
  {
   "cell_type": "code",
   "execution_count": 30,
   "metadata": {},
   "outputs": [
    {
     "name": "stdout",
     "output_type": "stream",
     "text": [
      "'Neurons [ 11,  11], Mean F1 score :    0.84051\n"
     ]
    }
   ],
   "source": [
    "depthOfNetwork = 3\n",
    "neuronCountInEachLayer = [11,11, 1]                                \n",
    "activationFuncEachLayer = ['sigmoid', 'sigmoid', 'sigmoid']           \n",
    "lossFunction = 'binary_crossentropy'                               \n",
    "regularizerFunc = tf.keras.regularizers.l2(0)\n",
    "print(\"'Neurons [% 3d, % 3d], Mean F1 score : % 10.5f\" %(11,11, evaluateTheModel()))"
   ]
  },
  {
   "cell_type": "markdown",
   "metadata": {},
   "source": [
    "### 3 Hidden layer F1 score"
   ]
  },
  {
   "cell_type": "code",
   "execution_count": 31,
   "metadata": {},
   "outputs": [
    {
     "name": "stdout",
     "output_type": "stream",
     "text": [
      "'Neurons [ 11,  11, 11], Mean F1 score :    0.84500\n"
     ]
    }
   ],
   "source": [
    "depthOfNetwork = 4\n",
    "neuronCountInEachLayer = [11,11,11, 1]                                \n",
    "activationFuncEachLayer = ['sigmoid', 'sigmoid', 'sigmoid','sigmoid']           \n",
    "lossFunction = 'binary_crossentropy'                               \n",
    "regularizerFunc = tf.keras.regularizers.l2(0)\n",
    "print(\"'Neurons [% 3d, % 3d,% 3d], Mean F1 score : % 10.5f\" %(11,11,11, evaluateTheModel()))"
   ]
  },
  {
   "cell_type": "markdown",
   "metadata": {},
   "source": [
    "### 4 Hidden layer F1 score"
   ]
  },
  {
   "cell_type": "code",
   "execution_count": 46,
   "metadata": {},
   "outputs": [
    {
     "name": "stdout",
     "output_type": "stream",
     "text": [
      "'Neurons [ 15,  15, 15, 15], Mean F1 score :    0.84403\n"
     ]
    }
   ],
   "source": [
    "depthOfNetwork = 5\n",
    "neuronCountInEachLayer = [11,11,11,11, 1]                                 \n",
    "activationFuncEachLayer = ['sigmoid', 'sigmoid', 'sigmoid','sigmoid','sigmoid']           \n",
    "lossFunction = 'binary_crossentropy'                               \n",
    "regularizerFunc = tf.keras.regularizers.l2(0)\n",
    "print(\"'Neurons [% 3d, % 3d,% 3d,% 3d], Mean F1 score : % 10.5f\" %(11,11,11,11, evaluateTheModel()))"
   ]
  },
  {
   "cell_type": "markdown",
   "metadata": {},
   "source": [
    "### 5 Hidden layer F1 score"
   ]
  },
  {
   "cell_type": "code",
   "execution_count": 32,
   "metadata": {},
   "outputs": [
    {
     "name": "stdout",
     "output_type": "stream",
     "text": [
      "'Neurons [ 11,  11, 11, 11, 11], Mean F1 score :    0.85213\n"
     ]
    }
   ],
   "source": [
    "depthOfNetwork = 6\n",
    "neuronCountInEachLayer = [11,11,11,11,11,1]                                \n",
    "activationFuncEachLayer = ['sigmoid', 'sigmoid', 'sigmoid','sigmoid','sigmoid','sigmoid']         \n",
    "lossFunction = 'binary_crossentropy'                               \n",
    "regularizerFunc = tf.keras.regularizers.l2(0)\n",
    "print(\"'Neurons [% 3d, % 3d,% 3d,% 3d,% 3d], Mean F1 score : % 10.5f\" %(11,11,11,11,11, evaluateTheModel()))"
   ]
  },
  {
   "cell_type": "markdown",
   "metadata": {},
   "source": [
    "# Changing different Error functions with 1 hidden layers with consatant Neurons(11)"
   ]
  },
  {
   "cell_type": "code",
   "execution_count": 39,
   "metadata": {},
   "outputs": [
    {
     "name": "stdout",
     "output_type": "stream",
     "text": [
      "binary_crossentropy\n",
      "Neurons [ 11], Mean F1 score :    0.84896\n",
      "mean_squared_error\n",
      "WARNING:tensorflow:From C:\\Users\\USER\\Anaconda3\\lib\\site-packages\\tensorflow\\python\\keras\\utils\\losses_utils.py:170: to_float (from tensorflow.python.ops.math_ops) is deprecated and will be removed in a future version.\n",
      "Instructions for updating:\n",
      "Use tf.cast instead.\n",
      "Neurons [ 11], Mean F1 score :    0.84606\n",
      "mean_squared_logarithmic_error\n",
      "Neurons [ 11], Mean F1 score :    0.84550\n"
     ]
    }
   ],
   "source": [
    "depthOfNetwork = 2\n",
    "neuronCountInEachLayer = [11, 1]                               \n",
    "activationFuncEachLayer = ['sigmoid', 'sigmoid']           \n",
    "lossFunction_list = ['binary_crossentropy','mean_squared_error','mean_squared_logarithmic_error']                                # try values binary_crossentropy, mean_squared_error,mean_squared_logarithmic_error\n",
    "regularizerFunc = tf.keras.regularizers.l2(0)                      \n",
    "for each in lossFunction_list:\n",
    "    lossFunction = each\n",
    "    print(each)\n",
    "    print(\"Neurons [% 3d], Mean F1 score : % 10.5f\" %(11,evaluateTheModel()))"
   ]
  },
  {
   "cell_type": "markdown",
   "metadata": {},
   "source": [
    "# Changing different activation functions with 1 hidden layers with consatant Neurons(11)"
   ]
  },
  {
   "cell_type": "code",
   "execution_count": 34,
   "metadata": {},
   "outputs": [
    {
     "name": "stdout",
     "output_type": "stream",
     "text": [
      "'Neurons [ 11], Mean F1 score :    0.84088\n",
      "'Neurons [ 11], Mean F1 score :    0.84993\n",
      "'Neurons [ 11], Mean F1 score :    0.85080\n"
     ]
    }
   ],
   "source": [
    "depthOfNetwork = 2\n",
    "neuronCountInEachLayer = [11, 1]                                \n",
    "activationFuncEachLayer_list = ['relu','tanh', 'sigmoid']           \n",
    "lossFunction = 'binary_crossentropy'                               \n",
    "regularizerFunc = tf.keras.regularizers.l2(0)                      \n",
    "for each in activationFuncEachLayer_list:\n",
    "    activationFuncEachLayer = [each,'sigmoid']\n",
    "    print(\"'Neurons [% 3d], Mean F1 score : % 10.5f\" %(11, evaluateTheModel()))"
   ]
  },
  {
   "cell_type": "markdown",
   "metadata": {},
   "source": [
    "## L1 regularization with different lambda values"
   ]
  },
  {
   "cell_type": "code",
   "execution_count": 43,
   "metadata": {},
   "outputs": [
    {
     "name": "stdout",
     "output_type": "stream",
     "text": [
      "'Regularizor : l1 with lambda :    0.00001 , Mean F1 score :    0.84077\n",
      "'Regularizor : l1 with lambda :    0.00010 , Mean F1 score :    0.85206\n",
      "'Regularizor : l1 with lambda :    0.00100 , Mean F1 score :    0.84551\n",
      "'Regularizor : l1 with lambda :    0.01000 , Mean F1 score :    0.85143\n",
      "'Regularizor : l1 with lambda :    0.10000 , Mean F1 score :    0.35694\n",
      "'Regularizor : l1 with lambda :    1.00000 , Mean F1 score :    0.35694\n",
      "'Regularizor : l1 with lambda :   10.00000 , Mean F1 score :    0.35694\n"
     ]
    }
   ],
   "source": [
    "depthOfNetwork = 2\n",
    "neuronCountInEachLayer = [11,1]                               \n",
    "activationFuncEachLayer = ['sigmoid', 'sigmoid']           \n",
    "lossFunction = 'binary_crossentropy'                                \n",
    "regularizerFunc = tf.keras.regularizers.l1(0)                      \n",
    "\n",
    "for i in range(-5,2):\n",
    "    regularizerFunc = tf.keras.regularizers.l1(10**i)\n",
    "    print(\"'Regularizor : l1 with lambda : % 10.5f , Mean F1 score : % 10.5f\" %(10**i, evaluateTheModel()))"
   ]
  },
  {
   "cell_type": "markdown",
   "metadata": {},
   "source": [
    "## L2 regularization with different lambda values"
   ]
  },
  {
   "cell_type": "code",
   "execution_count": 11,
   "metadata": {
    "scrolled": true
   },
   "outputs": [
    {
     "name": "stdout",
     "output_type": "stream",
     "text": [
      "WARNING:tensorflow:From C:\\Users\\USER\\Anaconda3\\lib\\site-packages\\tensorflow\\python\\ops\\resource_variable_ops.py:435: colocate_with (from tensorflow.python.framework.ops) is deprecated and will be removed in a future version.\n",
      "Instructions for updating:\n",
      "Colocations handled automatically by placer.\n",
      "WARNING:tensorflow:From C:\\Users\\USER\\Anaconda3\\lib\\site-packages\\tensorflow\\python\\ops\\math_ops.py:3066: to_int32 (from tensorflow.python.ops.math_ops) is deprecated and will be removed in a future version.\n",
      "Instructions for updating:\n",
      "Use tf.cast instead.\n",
      "'Regularizor : l2 with lambda :    0.00001 , Mean F1 score :    0.85183\n",
      "'Regularizor : l2 with lambda :    0.00010 , Mean F1 score :    0.85021\n",
      "'Regularizor : l2 with lambda :    0.00100 , Mean F1 score :    0.84533\n",
      "'Regularizor : l2 with lambda :    0.01000 , Mean F1 score :    0.84246\n",
      "'Regularizor : l2 with lambda :    0.10000 , Mean F1 score :    0.44913\n",
      "'Regularizor : l2 with lambda :    1.00000 , Mean F1 score :    0.35694\n",
      "'Regularizor : l2 with lambda :   10.00000 , Mean F1 score :    0.35694\n"
     ]
    }
   ],
   "source": [
    "depthOfNetwork = 2\n",
    "neuronCountInEachLayer = [11,1]                                \n",
    "activationFuncEachLayer = ['sigmoid', 'sigmoid']           \n",
    "lossFunction = 'binary_crossentropy'                                \n",
    "regularizerFunc = tf.keras.regularizers.l2(0)                      \n",
    "\n",
    "for i in range(-5,2):\n",
    "    regularizerFunc = tf.keras.regularizers.l2(10**i)\n",
    "    print(\"'Regularizor : l2 with lambda : % 10.5f , Mean F1 score : % 10.5f\" %(10**i, evaluateTheModel()))"
   ]
  },
  {
   "cell_type": "code",
   "execution_count": null,
   "metadata": {},
   "outputs": [],
   "source": []
  }
 ],
 "metadata": {
  "kernelspec": {
   "display_name": "Python 3",
   "language": "python",
   "name": "python3"
  },
  "language_info": {
   "codemirror_mode": {
    "name": "ipython",
    "version": 3
   },
   "file_extension": ".py",
   "mimetype": "text/x-python",
   "name": "python",
   "nbconvert_exporter": "python",
   "pygments_lexer": "ipython3",
   "version": "3.7.3"
  }
 },
 "nbformat": 4,
 "nbformat_minor": 2
}
